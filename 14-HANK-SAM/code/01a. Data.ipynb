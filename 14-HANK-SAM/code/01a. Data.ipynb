{
 "cells": [
  {
   "cell_type": "markdown",
   "metadata": {},
   "source": [
    "# Import"
   ]
  },
  {
   "cell_type": "code",
   "execution_count": 1,
   "metadata": {
    "execution": {
     "iopub.execute_input": "2022-12-06T15:32:42.060838Z",
     "iopub.status.busy": "2022-12-06T15:32:42.060838Z",
     "iopub.status.idle": "2022-12-06T15:32:43.029848Z",
     "shell.execute_reply": "2022-12-06T15:32:43.029848Z"
    }
   },
   "outputs": [],
   "source": [
    "%load_ext autoreload\n",
    "%autoreload 2\n",
    "\n",
    "import os\n",
    "import pickle\n",
    "import zipfile\n",
    "import urllib.request\n",
    "from datetime import datetime\n",
    "import pandas as pd\n",
    "import numpy as np\n",
    "\n",
    "from fredapi import Fred"
   ]
  },
  {
   "cell_type": "markdown",
   "metadata": {},
   "source": [
    "**Global settings:**"
   ]
  },
  {
   "cell_type": "code",
   "execution_count": 2,
   "metadata": {
    "execution": {
     "iopub.execute_input": "2022-12-06T15:32:43.029848Z",
     "iopub.status.busy": "2022-12-06T15:32:43.029848Z",
     "iopub.status.idle": "2022-12-06T15:32:43.123580Z",
     "shell.execute_reply": "2022-12-06T15:32:43.123580Z"
    }
   },
   "outputs": [],
   "source": [
    "DOWNLOAD_FRED = False # to re-download FRED data"
   ]
  },
  {
   "cell_type": "markdown",
   "metadata": {},
   "source": [
    "# Auxiliary functions"
   ]
  },
  {
   "cell_type": "markdown",
   "metadata": {},
   "source": [
    "**Functions:**"
   ]
  },
  {
   "cell_type": "code",
   "execution_count": 3,
   "metadata": {
    "execution": {
     "iopub.execute_input": "2022-12-06T15:32:43.123580Z",
     "iopub.status.busy": "2022-12-06T15:32:43.123580Z",
     "iopub.status.idle": "2022-12-06T15:32:43.207249Z",
     "shell.execute_reply": "2022-12-06T15:32:43.207249Z"
    }
   },
   "outputs": [],
   "source": [
    "def download_and_unzip(url,name):\n",
    "    \n",
    "    zipfilename = f'{os.getcwd()}/data/{name}.zip'\n",
    "    folder = f'{os.getcwd()}/data/{name}/'\n",
    "    \n",
    "    if os.path.isdir(folder): \n",
    "        print(f'data already downloaded and extracted to data/{name}/')\n",
    "        return\n",
    "    \n",
    "    # b. download\n",
    "    urllib.request.urlretrieve(url,zipfilename)\n",
    "    \n",
    "    # c. unzip\n",
    "    with zipfile.ZipFile(zipfilename) as file:\n",
    "        file.extractall(folder)\n",
    "        \n",
    "    print(f'downloaded and extracted to data/{name}/')\n",
    "        "
   ]
  },
  {
   "cell_type": "code",
   "execution_count": 4,
   "metadata": {
    "execution": {
     "iopub.execute_input": "2022-12-06T15:32:43.207249Z",
     "iopub.status.busy": "2022-12-06T15:32:43.207249Z",
     "iopub.status.idle": "2022-12-06T15:32:43.285313Z",
     "shell.execute_reply": "2022-12-06T15:32:43.285313Z"
    }
   },
   "outputs": [],
   "source": [
    "def resample_to_M(varQ):\n",
    "    \"\"\" resample from quarterly to monthly series \"\"\"\n",
    "    \n",
    "    # a. resample\n",
    "    varM = varQ[~varQ.isnull()].resample('M',label='left').first()\n",
    "    varM.index += pd.tseries.frequencies.to_offset('1D')\n",
    "    varM = varM.interpolate()\n",
    "    \n",
    "    # b. print\n",
    "    Q_index = varQ.index\n",
    "    M_index = varM.index\n",
    "    \n",
    "    print(f'{varname}: [{str(Q_index[0])[:-12]}:{str(Q_index[-1])[:-12]}] -> [{str(M_index[0])[:-12]}:{str(M_index[-1])[:-12]}]')   \n",
    "    \n",
    "    return varM\n"
   ]
  },
  {
   "cell_type": "code",
   "execution_count": 5,
   "metadata": {
    "execution": {
     "iopub.execute_input": "2022-12-06T15:32:43.285313Z",
     "iopub.status.busy": "2022-12-06T15:32:43.285313Z",
     "iopub.status.idle": "2022-12-06T15:32:43.363467Z",
     "shell.execute_reply": "2022-12-06T15:32:43.363467Z"
    }
   },
   "outputs": [],
   "source": [
    "def print_range(varname):\n",
    "    \n",
    "    I = ~np.isnan(data[varname].values)\n",
    "    index = data.index[I]\n",
    "        \n",
    "    print(f'{varname}: {str(index[0])[:-12]}:{str(index[-1])[:-12]}')\n",
    "        "
   ]
  },
  {
   "cell_type": "markdown",
   "metadata": {},
   "source": [
    "# Create data"
   ]
  },
  {
   "cell_type": "code",
   "execution_count": 6,
   "metadata": {
    "execution": {
     "iopub.execute_input": "2022-12-06T15:32:43.363467Z",
     "iopub.status.busy": "2022-12-06T15:32:43.363467Z",
     "iopub.status.idle": "2022-12-06T15:32:43.457198Z",
     "shell.execute_reply": "2022-12-06T15:32:43.457198Z"
    }
   },
   "outputs": [],
   "source": [
    "first = np.datetime64('1948-01')\n",
    "last = np.datetime64(datetime.today().strftime(\"%Y-%m\"))\n",
    "data = pd.DataFrame(index=np.arange(first,last+1))"
   ]
  },
  {
   "cell_type": "markdown",
   "metadata": {},
   "source": [
    "## FRED"
   ]
  },
  {
   "cell_type": "code",
   "execution_count": 7,
   "metadata": {
    "execution": {
     "iopub.execute_input": "2022-12-06T15:32:43.457198Z",
     "iopub.status.busy": "2022-12-06T15:32:43.457198Z",
     "iopub.status.idle": "2022-12-06T15:32:43.550931Z",
     "shell.execute_reply": "2022-12-06T15:32:43.550931Z"
    }
   },
   "outputs": [],
   "source": [
    "fredvars = [    \n",
    "    ('PCEPI',), # personal consumption deflator        \n",
    "    ('UNRATE','u'), # unemployment rate\n",
    "    ('FEDFUNDS','R'), # federal funds rate\n",
    "    ('INDPRO',), # industrial production\n",
    "    ('USREC',), # recession indicators\n",
    "]"
   ]
  },
  {
   "cell_type": "code",
   "execution_count": 8,
   "metadata": {
    "execution": {
     "iopub.execute_input": "2022-12-06T15:32:43.550931Z",
     "iopub.status.busy": "2022-12-06T15:32:43.550931Z",
     "iopub.status.idle": "2022-12-06T15:32:43.660287Z",
     "shell.execute_reply": "2022-12-06T15:32:43.660287Z"
    }
   },
   "outputs": [],
   "source": [
    "if DOWNLOAD_FRED:\n",
    "    \n",
    "    # a. setup API\n",
    "    fred = Fred(api_key='d72233f789a0e13feb3dcb06d86647ea')\n",
    "    \n",
    "    # b. setup data dict\n",
    "    data_fred = {}\n",
    "    data_fred['M'] = {}\n",
    "    data_fred['Q'] = {}\n",
    "    data_fred['A'] = {}\n",
    "    \n",
    "    # c. load each variable\n",
    "    for fredvar in fredvars:\n",
    "\n",
    "        # i. unpack\n",
    "        assert type(fredvar) is tuple\n",
    "        fredname = fredvar[0]\n",
    "        varname = fredname if len(fredvar) == 1 else fredvar[1]\n",
    "\n",
    "        # ii. print info\n",
    "        info = fred.get_series_info(fredname)\n",
    "\n",
    "        title = info['title']\n",
    "        freq = info['frequency_short']\n",
    "        start = info['observation_start']\n",
    "        end = info['observation_end']\n",
    "\n",
    "        print(f'{fredname:15s} {varname:25s} {title:90s} {start[:-3]} : {end[:-3]} [{freq}]')\n",
    "        \n",
    "        # iii. load data\n",
    "        data_fred[freq][varname] = fred.get_series(fredname).rename(varname)\n",
    "        \n",
    "    # d. save to disc\n",
    "    with open('data/data_fred.pickle','wb') as handle:\n",
    "        pickle.dump(data_fred,handle)\n",
    "        \n",
    "else:\n",
    "    \n",
    "    with open('data/data_fred.pickle','rb') as handle:\n",
    "        data_fred = pickle.load(handle)\n",
    "        "
   ]
  },
  {
   "cell_type": "markdown",
   "metadata": {},
   "source": [
    "**Add FRED data:**"
   ]
  },
  {
   "cell_type": "code",
   "execution_count": 9,
   "metadata": {
    "execution": {
     "iopub.execute_input": "2022-12-06T15:32:43.660287Z",
     "iopub.status.busy": "2022-12-06T15:32:43.660287Z",
     "iopub.status.idle": "2022-12-06T15:32:43.754017Z",
     "shell.execute_reply": "2022-12-06T15:32:43.754017Z"
    }
   },
   "outputs": [],
   "source": [
    "for i,(k,v) in enumerate(data_fred['M'].items()): data = data.join(v)"
   ]
  },
  {
   "cell_type": "markdown",
   "metadata": {},
   "source": [
    "**Ex post real interest rate:**"
   ]
  },
  {
   "cell_type": "code",
   "execution_count": 10,
   "metadata": {
    "execution": {
     "iopub.execute_input": "2022-12-06T15:32:43.754017Z",
     "iopub.status.busy": "2022-12-06T15:32:43.754017Z",
     "iopub.status.idle": "2022-12-06T15:32:43.847753Z",
     "shell.execute_reply": "2022-12-06T15:32:43.847753Z"
    }
   },
   "outputs": [],
   "source": [
    "data['Pi'] = ((data['PCEPI']/data['PCEPI'].shift(1))**12-1)*100\n",
    "data['RealR'] = data['R']-data['Pi'].shift(-1)"
   ]
  },
  {
   "cell_type": "markdown",
   "metadata": {},
   "source": [
    "**Logarithms:**"
   ]
  },
  {
   "cell_type": "code",
   "execution_count": 11,
   "metadata": {
    "execution": {
     "iopub.execute_input": "2022-12-06T15:32:43.847753Z",
     "iopub.status.busy": "2022-12-06T15:32:43.847753Z",
     "iopub.status.idle": "2022-12-06T15:32:43.941485Z",
     "shell.execute_reply": "2022-12-06T15:32:43.941485Z"
    }
   },
   "outputs": [],
   "source": [
    "for varname in ['INDPRO','PCEPI']:\n",
    "    data[f'log_{varname}'] = 100*np.log(data[varname])"
   ]
  },
  {
   "cell_type": "markdown",
   "metadata": {},
   "source": [
    "## Labor market flows data"
   ]
  },
  {
   "cell_type": "markdown",
   "metadata": {},
   "source": [
    "The data construction is documented in the repository [CPS-labor-market-flows](https://github.com/JeppeDruedahl/CPS-labor-market-flows)."
   ]
  },
  {
   "cell_type": "markdown",
   "metadata": {},
   "source": [
    "**Download:**"
   ]
  },
  {
   "cell_type": "code",
   "execution_count": 12,
   "metadata": {
    "execution": {
     "iopub.execute_input": "2022-12-06T15:32:43.941485Z",
     "iopub.status.busy": "2022-12-06T15:32:43.941485Z",
     "iopub.status.idle": "2022-12-06T15:32:44.639035Z",
     "shell.execute_reply": "2022-12-06T15:32:44.639035Z"
    }
   },
   "outputs": [
    {
     "name": "stdout",
     "output_type": "stream",
     "text": [
      "data/Q.p has been download\n"
     ]
    }
   ],
   "source": [
    "# a. download\n",
    "filename = 'data/Q.p'\n",
    "if not os.path.isdir(filename):\n",
    "    url = 'https://github.com/JeppeDruedahl/CPS-labor-market-flows/raw/main/Q.p'\n",
    "    urllib.request.urlretrieve(url,filename)\n",
    "    print(f'data/Q.p has been download')\n",
    "else:\n",
    "    print(f'data/Q.p has already been downloaded')\n",
    "    \n",
    "# b. open\n",
    "with open('data/Q.p', 'rb') as f:\n",
    "    Q = pickle.load(f)"
   ]
  },
  {
   "cell_type": "markdown",
   "metadata": {},
   "source": [
    "**Transfer to data:**"
   ]
  },
  {
   "cell_type": "code",
   "execution_count": 13,
   "metadata": {
    "execution": {
     "iopub.execute_input": "2022-12-06T15:32:44.690933Z",
     "iopub.status.busy": "2022-12-06T15:32:44.690933Z",
     "iopub.status.idle": "2022-12-06T15:32:44.815911Z",
     "shell.execute_reply": "2022-12-06T15:32:44.815911Z"
    }
   },
   "outputs": [
    {
     "name": "stdout",
     "output_type": "stream",
     "text": [
      "EE: 1967-06:2019-12\n",
      "EU: 1967-06:2019-12\n",
      "EI: 1967-06:2019-12\n",
      "UE: 1967-06:2019-12\n",
      "UU: 1967-06:2019-12\n",
      "UI: 1967-06:2019-12\n",
      "IE: 1967-06:2019-12\n",
      "IU: 1967-06:2019-12\n",
      "II: 1967-06:2019-12\n"
     ]
    }
   ],
   "source": [
    "for k,v in Q.items():\n",
    "    \n",
    "    # a. transfer\n",
    "    data[f'l_{k}'] = v\n",
    "    \n",
    "    # b. calculate monthly transition event probability \n",
    "    data[k] = 100*(1.0-np.exp(-v))\n",
    "    \n",
    "    print_range(k)"
   ]
  },
  {
   "cell_type": "markdown",
   "metadata": {},
   "source": [
    "**Implied durations:**"
   ]
  },
  {
   "cell_type": "code",
   "execution_count": 14,
   "metadata": {
    "execution": {
     "iopub.execute_input": "2022-12-06T15:32:44.815911Z",
     "iopub.status.busy": "2022-12-06T15:32:44.815911Z",
     "iopub.status.idle": "2022-12-06T15:32:44.925264Z",
     "shell.execute_reply": "2022-12-06T15:32:44.925264Z"
    }
   },
   "outputs": [],
   "source": [
    "data['dur_u'] = 1/data['l_UE']\n",
    "data['dur_e'] = 1/data['l_EU']"
   ]
  },
  {
   "cell_type": "markdown",
   "metadata": {},
   "source": [
    "## Data from Coibion"
   ]
  },
  {
   "cell_type": "markdown",
   "metadata": {},
   "source": [
    "**Note:** Original file downloaded from [http://doi.org/10.3886/E114243V1](http://doi.org/10.3886/E114243V1)."
   ]
  },
  {
   "cell_type": "code",
   "execution_count": 15,
   "metadata": {
    "execution": {
     "iopub.execute_input": "2022-12-06T15:32:44.925264Z",
     "iopub.status.busy": "2022-12-06T15:32:44.925264Z",
     "iopub.status.idle": "2022-12-06T15:32:45.688480Z",
     "shell.execute_reply": "2022-12-06T15:32:45.688480Z"
    }
   },
   "outputs": [
    {
     "name": "stdout",
     "output_type": "stream",
     "text": [
      "CRBCPI: 1960-01:2008-08\n"
     ]
    }
   ],
   "source": [
    "# a. load from excel\n",
    "index = np.arange(np.datetime64('1960-01'),np.datetime64('2008-08')+1)\n",
    "\n",
    "CRBCPI = pd.read_excel(\n",
    "    'data/114243-V1/AEJ_2010_0129_Data/Data_AEJ.xlsx',\n",
    "    sheet_name='MonthlyData',names=['CRBCPI'],\n",
    "    usecols='H',skiprows=6,nrows=index.size).squeeze(\"columns\")\n",
    "\n",
    "CRBCPI.index = index\n",
    "\n",
    "# b. add to data\n",
    "data['CRBCPI'] = CRBCPI\n",
    "print_range('CRBCPI')"
   ]
  },
  {
   "cell_type": "markdown",
   "metadata": {},
   "source": [
    "**Logarithm:**"
   ]
  },
  {
   "cell_type": "code",
   "execution_count": 16,
   "metadata": {
    "execution": {
     "iopub.execute_input": "2022-12-06T15:32:45.688480Z",
     "iopub.status.busy": "2022-12-06T15:32:45.688480Z",
     "iopub.status.idle": "2022-12-06T15:32:45.782213Z",
     "shell.execute_reply": "2022-12-06T15:32:45.782213Z"
    }
   },
   "outputs": [],
   "source": [
    "data['log_CRBCPI'] = 100*np.log(data['CRBCPI'])"
   ]
  },
  {
   "cell_type": "markdown",
   "metadata": {},
   "source": [
    "## Data from Miranda-Agrippino (Romer and Romer)"
   ]
  },
  {
   "cell_type": "markdown",
   "metadata": {},
   "source": [
    "**Download:**"
   ]
  },
  {
   "cell_type": "code",
   "execution_count": 17,
   "metadata": {
    "execution": {
     "iopub.execute_input": "2022-12-06T15:32:45.782213Z",
     "iopub.status.busy": "2022-12-06T15:32:45.782213Z",
     "iopub.status.idle": "2022-12-06T15:32:45.877165Z",
     "shell.execute_reply": "2022-12-06T15:32:45.877165Z"
    }
   },
   "outputs": [
    {
     "name": "stdout",
     "output_type": "stream",
     "text": [
      "data already downloaded and extracted to data/RomerRomer/\n"
     ]
    }
   ],
   "source": [
    "url = 'http://silviamirandaagrippino.com/s/Narrative-MP.zip'\n",
    "download_and_unzip(url,'RomerRomer')"
   ]
  },
  {
   "cell_type": "markdown",
   "metadata": {},
   "source": [
    "**Process and transfer to data:**"
   ]
  },
  {
   "cell_type": "code",
   "execution_count": 18,
   "metadata": {
    "execution": {
     "iopub.execute_input": "2022-12-06T15:32:45.877165Z",
     "iopub.status.busy": "2022-12-06T15:32:45.877165Z",
     "iopub.status.idle": "2022-12-06T15:32:46.029987Z",
     "shell.execute_reply": "2022-12-06T15:32:46.029987Z"
    }
   },
   "outputs": [
    {
     "name": "stdout",
     "output_type": "stream",
     "text": [
      "shock_RR: 1969-01:1996-12\n",
      "shock_MA: 1969-01:2007-12\n"
     ]
    }
   ],
   "source": [
    "# a. load\n",
    "data_RR_df = pd.read_excel(f'{os.getcwd()}/data/RomerRomer/Narrative MP/NarrativeRomerRomerShock.xlsx',skiprows=[0])\n",
    "data_RR_df.date = pd.to_datetime(data_RR_df.date,format='%YM%m')\n",
    "\n",
    "# b. update data\n",
    "data['shock_RR'] = pd.Series(data=data_RR_df['Romer & Romer (2004)'].values,index=data_RR_df.date)\n",
    "data['shock_MA'] = pd.Series(data=data_RR_df['Miranda-Agrippino (2014)'].values,index=data_RR_df.date)\n",
    "\n",
    "print_range('shock_RR')\n",
    "print_range('shock_MA')"
   ]
  },
  {
   "cell_type": "markdown",
   "metadata": {},
   "source": [
    "## Data from Regis Barnichon"
   ]
  },
  {
   "cell_type": "markdown",
   "metadata": {},
   "source": [
    "**Download:**"
   ]
  },
  {
   "cell_type": "code",
   "execution_count": 19,
   "metadata": {
    "execution": {
     "iopub.execute_input": "2022-12-06T15:32:46.029987Z",
     "iopub.status.busy": "2022-12-06T15:32:46.029987Z",
     "iopub.status.idle": "2022-12-06T15:32:46.139345Z",
     "shell.execute_reply": "2022-12-06T15:32:46.139345Z"
    }
   },
   "outputs": [
    {
     "name": "stdout",
     "output_type": "stream",
     "text": [
      "data loaded from data/data_RB.pickle\n"
     ]
    }
   ],
   "source": [
    "filepath = 'data/data_RB.pickle'\n",
    "if not os.path.isfile(filepath):\n",
    "    \n",
    "    # i. download\n",
    "    #data_RB_df = pd.read_csv('https://drive.google.com/file/d/1s9yGoAt6wfpKaBGkP7xV7Hvs7RVV9deS/view?usp=sharing',header=None,skiprows=7,delimiter='\\t')\n",
    "    data_RB_df = pd.read_csv('data/HWI_index.txt',header=None,skiprows=7,delimiter='\\t')\n",
    "    \n",
    "    # ii. structure\n",
    "    data_RB_df.columns = ['date','v']\n",
    "    data_RB_df.date = pd.to_datetime(data_RB_df.date,format='%YM%m')\n",
    "    \n",
    "    data_RB = {}\n",
    "    data_RB['v'] = pd.Series(data=data_RB_df.v.values,index=data_RB_df.date)\n",
    "    \n",
    "    # iii. save\n",
    "    with open(filepath,'wb') as handle:\n",
    "        pickle.dump(data_RB,handle)    \n",
    "    \n",
    "    del data_RB_df\n",
    "    \n",
    "    print(f'data downloaded and saved to {filepath}')\n",
    "    \n",
    "else:\n",
    "    \n",
    "    with open('data/data_RB.pickle', 'rb') as f:\n",
    "        data_RB = pickle.load(f)\n",
    "        \n",
    "    print(f'data loaded from {filepath}')"
   ]
  },
  {
   "cell_type": "markdown",
   "metadata": {},
   "source": [
    "**Transfer to data:**"
   ]
  },
  {
   "cell_type": "code",
   "execution_count": 20,
   "metadata": {
    "execution": {
     "iopub.execute_input": "2022-12-06T15:32:46.139345Z",
     "iopub.status.busy": "2022-12-06T15:32:46.139345Z",
     "iopub.status.idle": "2022-12-06T15:32:46.233075Z",
     "shell.execute_reply": "2022-12-06T15:32:46.233075Z"
    }
   },
   "outputs": [],
   "source": [
    "data['v'] = data_RB['v']"
   ]
  },
  {
   "cell_type": "markdown",
   "metadata": {},
   "source": [
    "**Logarithm:**"
   ]
  },
  {
   "cell_type": "code",
   "execution_count": 21,
   "metadata": {
    "execution": {
     "iopub.execute_input": "2022-12-06T15:32:46.233075Z",
     "iopub.status.busy": "2022-12-06T15:32:46.233075Z",
     "iopub.status.idle": "2022-12-06T15:32:46.326810Z",
     "shell.execute_reply": "2022-12-06T15:32:46.326810Z"
    }
   },
   "outputs": [],
   "source": [
    "data['log_v'] = 100*np.log(data['v'])"
   ]
  },
  {
   "cell_type": "markdown",
   "metadata": {},
   "source": [
    "## Tighetness"
   ]
  },
  {
   "cell_type": "code",
   "execution_count": 22,
   "metadata": {
    "execution": {
     "iopub.execute_input": "2022-12-06T15:32:46.326810Z",
     "iopub.status.busy": "2022-12-06T15:32:46.326810Z",
     "iopub.status.idle": "2022-12-06T15:32:46.420539Z",
     "shell.execute_reply": "2022-12-06T15:32:46.420539Z"
    }
   },
   "outputs": [],
   "source": [
    "data['theta'] = data['v']/data['u']\n",
    "data['log_theta'] = 100*np.log(data['theta'])"
   ]
  },
  {
   "cell_type": "markdown",
   "metadata": {},
   "source": [
    "# Data from Ramey and Fernald (qtr.)"
   ]
  },
  {
   "cell_type": "markdown",
   "metadata": {},
   "source": [
    "## Ramey"
   ]
  },
  {
   "cell_type": "code",
   "execution_count": 23,
   "metadata": {
    "execution": {
     "iopub.execute_input": "2022-12-06T15:32:46.420539Z",
     "iopub.status.busy": "2022-12-06T15:32:46.420539Z",
     "iopub.status.idle": "2022-12-06T15:32:46.514276Z",
     "shell.execute_reply": "2022-12-06T15:32:46.514276Z"
    }
   },
   "outputs": [
    {
     "name": "stdout",
     "output_type": "stream",
     "text": [
      "data already downloaded and extracted to data/Ramey_HOM_technology/\n"
     ]
    }
   ],
   "source": [
    "url = 'https://econweb.ucsd.edu/~vramey/research/Ramey_HOM_technology.zip'\n",
    "download_and_unzip(url,'Ramey_HOM_technology')"
   ]
  },
  {
   "cell_type": "code",
   "execution_count": 24,
   "metadata": {
    "execution": {
     "iopub.execute_input": "2022-12-06T15:32:46.514276Z",
     "iopub.status.busy": "2022-12-06T15:32:46.514276Z",
     "iopub.status.idle": "2022-12-06T15:32:46.751058Z",
     "shell.execute_reply": "2022-12-06T15:32:46.751058Z"
    }
   },
   "outputs": [],
   "source": [
    "data_Q = pd.read_excel('data/Ramey_HOM_technology/Technology_data.xlsx',sheet_name='techdat')"
   ]
  },
  {
   "cell_type": "code",
   "execution_count": 25,
   "metadata": {
    "execution": {
     "iopub.execute_input": "2022-12-06T15:32:46.751058Z",
     "iopub.status.busy": "2022-12-06T15:32:46.751058Z",
     "iopub.status.idle": "2022-12-06T15:32:46.844790Z",
     "shell.execute_reply": "2022-12-06T15:32:46.844790Z"
    }
   },
   "outputs": [],
   "source": [
    "year = np.floor(data_Q.quarter).astype('int').astype('str')\n",
    "quarter = (1+(data_Q.quarter-np.floor(data_Q.quarter))*4).astype('int').astype('str')\n",
    "data_Q['date'] = pd.to_datetime(year + '-Q' + quarter)\n",
    "data_Q = data_Q.set_index('date')"
   ]
  },
  {
   "cell_type": "markdown",
   "metadata": {},
   "source": [
    "Change bad naming:"
   ]
  },
  {
   "cell_type": "code",
   "execution_count": 26,
   "metadata": {
    "execution": {
     "iopub.execute_input": "2022-12-06T15:32:46.844790Z",
     "iopub.status.busy": "2022-12-06T15:32:46.844790Z",
     "iopub.status.idle": "2022-12-06T15:32:46.938527Z",
     "shell.execute_reply": "2022-12-06T15:32:46.938527Z"
    }
   },
   "outputs": [],
   "source": [
    "data_Q['poplev'] = data_Q['pop']\n",
    "del data_Q['pop']"
   ]
  },
  {
   "cell_type": "markdown",
   "metadata": {},
   "source": [
    "## Fernald"
   ]
  },
  {
   "cell_type": "code",
   "execution_count": 27,
   "metadata": {
    "execution": {
     "iopub.execute_input": "2022-12-06T15:32:46.938527Z",
     "iopub.status.busy": "2022-12-06T15:32:46.938527Z",
     "iopub.status.idle": "2022-12-06T15:32:47.045338Z",
     "shell.execute_reply": "2022-12-06T15:32:47.045338Z"
    }
   },
   "outputs": [],
   "source": [
    "url = 'https://drive.google.com/u/0/uc?id=1ezc7H70Rlnc7tGhB062ua0FG-eLmDJV6&export=download'\n",
    "filename = f'{os.getcwd()}/data/fenald.xlsx'\n",
    "if not os.path.isfile(filename):\n",
    "    urllib.request.urlretrieve(url,filename)"
   ]
  },
  {
   "cell_type": "code",
   "execution_count": 28,
   "metadata": {
    "execution": {
     "iopub.execute_input": "2022-12-06T15:32:47.045338Z",
     "iopub.status.busy": "2022-12-06T15:32:47.045338Z",
     "iopub.status.idle": "2022-12-06T15:32:47.248429Z",
     "shell.execute_reply": "2022-12-06T15:32:47.248429Z"
    }
   },
   "outputs": [],
   "source": [
    "df = pd.read_excel(f'{os.getcwd()}/data/fenald.xlsx',sheet_name='quarterly',skiprows=1,nrows=292)\n",
    "df.date = pd.to_datetime(df.date.str[:4] + df.date.str[-2:])\n",
    "df = df.set_index('date')\n",
    "data_Q['dtfp_util'] = df['dtfp_util']"
   ]
  },
  {
   "cell_type": "markdown",
   "metadata": {},
   "source": [
    "## Data from Haltiwanger (qtr.)"
   ]
  },
  {
   "cell_type": "markdown",
   "metadata": {},
   "source": [
    "**Download:**"
   ]
  },
  {
   "cell_type": "code",
   "execution_count": 29,
   "metadata": {
    "execution": {
     "iopub.execute_input": "2022-12-06T15:32:47.248429Z",
     "iopub.status.busy": "2022-12-06T15:32:47.248429Z",
     "iopub.status.idle": "2022-12-06T15:32:47.357785Z",
     "shell.execute_reply": "2022-12-06T15:32:47.357785Z"
    }
   },
   "outputs": [
    {
     "name": "stdout",
     "output_type": "stream",
     "text": [
      "data loaded from data/data_haltiwanger.pickle\n"
     ]
    }
   ],
   "source": [
    "filepath = 'data/data_haltiwanger.pickle'\n",
    "if not os.path.isfile(filepath):\n",
    "    \n",
    "    data_haltiwanger = pd.read_excel('http://econweb.umd.edu/~haltiwan/download/DFH_JEP_JobFlows/DFH_JEP_2006_Job_Flows.xls',\n",
    "                                     skiprows=4,sheet_name='Final Estimates')\n",
    "    data_haltiwanger['year'] = data_haltiwanger.QTR.astype('str').str[:4]\n",
    "    data_haltiwanger['quarter'] = data_haltiwanger.QTR.astype('str').str[4]\n",
    "    data_haltiwanger['date'] = pd.to_datetime(data_haltiwanger['year'] + '-Q' + data_haltiwanger['quarter'])\n",
    "    \n",
    "    # save to disc\n",
    "    with open(filepath,'wb') as handle:\n",
    "        pickle.dump(data_haltiwanger,handle)\n",
    "        \n",
    "    print(f'data downloaded and saved to {filepath}')\n",
    "    \n",
    "else:\n",
    "    \n",
    "    with open(filepath, 'rb') as f:\n",
    "        data_haltiwanger = pickle.load(f)\n",
    "        \n",
    "    print(f'data loaded from {filepath}')        "
   ]
  },
  {
   "cell_type": "markdown",
   "metadata": {},
   "source": [
    "**Proces:**"
   ]
  },
  {
   "cell_type": "code",
   "execution_count": 30,
   "metadata": {
    "execution": {
     "iopub.execute_input": "2022-12-06T15:32:47.357785Z",
     "iopub.status.busy": "2022-12-06T15:32:47.357785Z",
     "iopub.status.idle": "2022-12-06T15:32:47.451519Z",
     "shell.execute_reply": "2022-12-06T15:32:47.451519Z"
    }
   },
   "outputs": [],
   "source": [
    "jd = data_Q['jd'] = pd.Series(data=data_haltiwanger.JD.values,index=data_haltiwanger.date)\n",
    "jc = data_Q['jc'] = pd.Series(data=data_haltiwanger.JC.values,index=data_haltiwanger.date)"
   ]
  },
  {
   "cell_type": "markdown",
   "metadata": {},
   "source": [
    "**Resample to monthly**"
   ]
  },
  {
   "cell_type": "code",
   "execution_count": 31,
   "metadata": {
    "execution": {
     "iopub.execute_input": "2022-12-06T15:32:47.451519Z",
     "iopub.status.busy": "2022-12-06T15:32:47.451519Z",
     "iopub.status.idle": "2022-12-06T15:32:47.560873Z",
     "shell.execute_reply": "2022-12-06T15:32:47.560873Z"
    }
   },
   "outputs": [
    {
     "name": "stdout",
     "output_type": "stream",
     "text": [
      "PCEPI: [1947-01:2005-01] -> [1947-01:2005-01]\n",
      "PCEPI: [1947-01:2005-01] -> [1947-01:2005-01]\n"
     ]
    }
   ],
   "source": [
    "data['jd'] = resample_to_M(jd)\n",
    "data['jc'] = resample_to_M(jc)"
   ]
  },
  {
   "cell_type": "code",
   "execution_count": 32,
   "metadata": {
    "execution": {
     "iopub.execute_input": "2022-12-06T15:32:47.560873Z",
     "iopub.status.busy": "2022-12-06T15:32:47.560873Z",
     "iopub.status.idle": "2022-12-06T15:32:47.654604Z",
     "shell.execute_reply": "2022-12-06T15:32:47.654604Z"
    }
   },
   "outputs": [
    {
     "name": "stdout",
     "output_type": "stream",
     "text": [
      "jc: 1948-01:2005-01\n",
      "jd: 1948-01:2005-01\n"
     ]
    }
   ],
   "source": [
    "for varname in ['jc','jd']: print_range(varname)"
   ]
  },
  {
   "cell_type": "markdown",
   "metadata": {},
   "source": [
    "**Logarithms**"
   ]
  },
  {
   "cell_type": "code",
   "execution_count": 33,
   "metadata": {
    "execution": {
     "iopub.execute_input": "2022-12-06T15:32:47.654604Z",
     "iopub.status.busy": "2022-12-06T15:32:47.654604Z",
     "iopub.status.idle": "2022-12-06T15:32:47.748335Z",
     "shell.execute_reply": "2022-12-06T15:32:47.748335Z"
    }
   },
   "outputs": [],
   "source": [
    "for varname in ['jc','jd']:\n",
    "    data[f'log_{varname}'] = 100*np.log(data[varname])"
   ]
  },
  {
   "cell_type": "markdown",
   "metadata": {},
   "source": [
    "## Add monthly data to quarterly data"
   ]
  },
  {
   "cell_type": "code",
   "execution_count": 34,
   "metadata": {
    "execution": {
     "iopub.execute_input": "2022-12-06T15:32:47.748335Z",
     "iopub.status.busy": "2022-12-06T15:32:47.748335Z",
     "iopub.status.idle": "2022-12-06T15:32:47.842069Z",
     "shell.execute_reply": "2022-12-06T15:32:47.842069Z"
    }
   },
   "outputs": [],
   "source": [
    "data_Q_from_m = data.resample('Q',label='left').mean()\n",
    "data_Q_from_m.index += pd.tseries.frequencies.to_offset('1D')"
   ]
  },
  {
   "cell_type": "code",
   "execution_count": 35,
   "metadata": {
    "execution": {
     "iopub.execute_input": "2022-12-06T15:32:47.842069Z",
     "iopub.status.busy": "2022-12-06T15:32:47.842069Z",
     "iopub.status.idle": "2022-12-06T15:32:47.961773Z",
     "shell.execute_reply": "2022-12-06T15:32:47.961773Z"
    }
   },
   "outputs": [],
   "source": [
    "for varname in data_Q_from_m:\n",
    "    if not varname in data_Q:\n",
    "        data_Q[varname] = data_Q_from_m[varname]"
   ]
  },
  {
   "cell_type": "markdown",
   "metadata": {},
   "source": [
    "## Dump"
   ]
  },
  {
   "cell_type": "code",
   "execution_count": 36,
   "metadata": {
    "execution": {
     "iopub.execute_input": "2022-12-06T15:32:47.969738Z",
     "iopub.status.busy": "2022-12-06T15:32:47.969738Z",
     "iopub.status.idle": "2022-12-06T15:32:48.045616Z",
     "shell.execute_reply": "2022-12-06T15:32:48.045616Z"
    }
   },
   "outputs": [],
   "source": [
    "with open('data/data.p','wb') as f:\n",
    "    pickle.dump(data,f)"
   ]
  },
  {
   "cell_type": "code",
   "execution_count": 37,
   "metadata": {
    "execution": {
     "iopub.execute_input": "2022-12-06T15:32:48.045616Z",
     "iopub.status.busy": "2022-12-06T15:32:48.045616Z",
     "iopub.status.idle": "2022-12-06T15:32:48.143478Z",
     "shell.execute_reply": "2022-12-06T15:32:48.143266Z"
    }
   },
   "outputs": [],
   "source": [
    "with open('data/data_Q.p','wb') as f:\n",
    "    pickle.dump(data_Q,f)"
   ]
  }
 ],
 "metadata": {
  "kernelspec": {
   "display_name": "Python 3 (ipykernel)",
   "language": "python",
   "name": "python3"
  },
  "language_info": {
   "codemirror_mode": {
    "name": "ipython",
    "version": 3
   },
   "file_extension": ".py",
   "mimetype": "text/x-python",
   "name": "python",
   "nbconvert_exporter": "python",
   "pygments_lexer": "ipython3",
   "version": "3.9.13"
  },
  "toc-autonumbering": true
 },
 "nbformat": 4,
 "nbformat_minor": 4
}
